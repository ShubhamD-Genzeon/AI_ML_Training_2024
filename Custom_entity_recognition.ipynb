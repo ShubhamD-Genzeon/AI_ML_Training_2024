{
  "nbformat": 4,
  "nbformat_minor": 0,
  "metadata": {
    "colab": {
      "provenance": [],
      "authorship_tag": "ABX9TyOqrxibwR0KQL5FDBJVCiym",
      "include_colab_link": true
    },
    "kernelspec": {
      "name": "python3",
      "display_name": "Python 3"
    },
    "language_info": {
      "name": "python"
    }
  },
  "cells": [
    {
      "cell_type": "markdown",
      "metadata": {
        "id": "view-in-github",
        "colab_type": "text"
      },
      "source": [
        "<a href=\"https://colab.research.google.com/github/ShubhamD-Genzeon/AI_ML_Training_2024/blob/main/Custom_entity_recognition.ipynb\" target=\"_parent\"><img src=\"https://colab.research.google.com/assets/colab-badge.svg\" alt=\"Open In Colab\"/></a>"
      ]
    },
    {
      "cell_type": "code",
      "execution_count": 48,
      "metadata": {
        "id": "rAh2DsiYnyDe"
      },
      "outputs": [],
      "source": [
        "import spacy"
      ]
    },
    {
      "cell_type": "code",
      "source": [
        "!python -m spacy download en_core_web_lg"
      ],
      "metadata": {
        "colab": {
          "base_uri": "https://localhost:8080/"
        },
        "id": "Lah8iuWyagE0",
        "outputId": "d858c926-afeb-486a-84c2-0dc74ede5932"
      },
      "execution_count": 49,
      "outputs": [
        {
          "output_type": "stream",
          "name": "stdout",
          "text": [
            "Collecting en-core-web-lg==3.7.1\n",
            "  Downloading https://github.com/explosion/spacy-models/releases/download/en_core_web_lg-3.7.1/en_core_web_lg-3.7.1-py3-none-any.whl (587.7 MB)\n",
            "\u001b[2K     \u001b[90m━━━━━━━━━━━━━━━━━━━━━━━━━━━━━━━━━━━━━━━━\u001b[0m \u001b[32m587.7/587.7 MB\u001b[0m \u001b[31m1.6 MB/s\u001b[0m eta \u001b[36m0:00:00\u001b[0m\n",
            "\u001b[?25hRequirement already satisfied: spacy<3.8.0,>=3.7.2 in /usr/local/lib/python3.10/dist-packages (from en-core-web-lg==3.7.1) (3.7.4)\n",
            "Requirement already satisfied: spacy-legacy<3.1.0,>=3.0.11 in /usr/local/lib/python3.10/dist-packages (from spacy<3.8.0,>=3.7.2->en-core-web-lg==3.7.1) (3.0.12)\n",
            "Requirement already satisfied: spacy-loggers<2.0.0,>=1.0.0 in /usr/local/lib/python3.10/dist-packages (from spacy<3.8.0,>=3.7.2->en-core-web-lg==3.7.1) (1.0.5)\n",
            "Requirement already satisfied: murmurhash<1.1.0,>=0.28.0 in /usr/local/lib/python3.10/dist-packages (from spacy<3.8.0,>=3.7.2->en-core-web-lg==3.7.1) (1.0.10)\n",
            "Requirement already satisfied: cymem<2.1.0,>=2.0.2 in /usr/local/lib/python3.10/dist-packages (from spacy<3.8.0,>=3.7.2->en-core-web-lg==3.7.1) (2.0.8)\n",
            "Requirement already satisfied: preshed<3.1.0,>=3.0.2 in /usr/local/lib/python3.10/dist-packages (from spacy<3.8.0,>=3.7.2->en-core-web-lg==3.7.1) (3.0.9)\n",
            "Requirement already satisfied: thinc<8.3.0,>=8.2.2 in /usr/local/lib/python3.10/dist-packages (from spacy<3.8.0,>=3.7.2->en-core-web-lg==3.7.1) (8.2.3)\n",
            "Requirement already satisfied: wasabi<1.2.0,>=0.9.1 in /usr/local/lib/python3.10/dist-packages (from spacy<3.8.0,>=3.7.2->en-core-web-lg==3.7.1) (1.1.2)\n",
            "Requirement already satisfied: srsly<3.0.0,>=2.4.3 in /usr/local/lib/python3.10/dist-packages (from spacy<3.8.0,>=3.7.2->en-core-web-lg==3.7.1) (2.4.8)\n",
            "Requirement already satisfied: catalogue<2.1.0,>=2.0.6 in /usr/local/lib/python3.10/dist-packages (from spacy<3.8.0,>=3.7.2->en-core-web-lg==3.7.1) (2.0.10)\n",
            "Requirement already satisfied: weasel<0.4.0,>=0.1.0 in /usr/local/lib/python3.10/dist-packages (from spacy<3.8.0,>=3.7.2->en-core-web-lg==3.7.1) (0.3.4)\n",
            "Requirement already satisfied: typer<0.10.0,>=0.3.0 in /usr/local/lib/python3.10/dist-packages (from spacy<3.8.0,>=3.7.2->en-core-web-lg==3.7.1) (0.9.4)\n",
            "Requirement already satisfied: smart-open<7.0.0,>=5.2.1 in /usr/local/lib/python3.10/dist-packages (from spacy<3.8.0,>=3.7.2->en-core-web-lg==3.7.1) (6.4.0)\n",
            "Requirement already satisfied: tqdm<5.0.0,>=4.38.0 in /usr/local/lib/python3.10/dist-packages (from spacy<3.8.0,>=3.7.2->en-core-web-lg==3.7.1) (4.66.2)\n",
            "Requirement already satisfied: requests<3.0.0,>=2.13.0 in /usr/local/lib/python3.10/dist-packages (from spacy<3.8.0,>=3.7.2->en-core-web-lg==3.7.1) (2.31.0)\n",
            "Requirement already satisfied: pydantic!=1.8,!=1.8.1,<3.0.0,>=1.7.4 in /usr/local/lib/python3.10/dist-packages (from spacy<3.8.0,>=3.7.2->en-core-web-lg==3.7.1) (2.6.4)\n",
            "Requirement already satisfied: jinja2 in /usr/local/lib/python3.10/dist-packages (from spacy<3.8.0,>=3.7.2->en-core-web-lg==3.7.1) (3.1.3)\n",
            "Requirement already satisfied: setuptools in /usr/local/lib/python3.10/dist-packages (from spacy<3.8.0,>=3.7.2->en-core-web-lg==3.7.1) (67.7.2)\n",
            "Requirement already satisfied: packaging>=20.0 in /usr/local/lib/python3.10/dist-packages (from spacy<3.8.0,>=3.7.2->en-core-web-lg==3.7.1) (24.0)\n",
            "Requirement already satisfied: langcodes<4.0.0,>=3.2.0 in /usr/local/lib/python3.10/dist-packages (from spacy<3.8.0,>=3.7.2->en-core-web-lg==3.7.1) (3.3.0)\n",
            "Requirement already satisfied: numpy>=1.19.0 in /usr/local/lib/python3.10/dist-packages (from spacy<3.8.0,>=3.7.2->en-core-web-lg==3.7.1) (1.25.2)\n",
            "Requirement already satisfied: annotated-types>=0.4.0 in /usr/local/lib/python3.10/dist-packages (from pydantic!=1.8,!=1.8.1,<3.0.0,>=1.7.4->spacy<3.8.0,>=3.7.2->en-core-web-lg==3.7.1) (0.6.0)\n",
            "Requirement already satisfied: pydantic-core==2.16.3 in /usr/local/lib/python3.10/dist-packages (from pydantic!=1.8,!=1.8.1,<3.0.0,>=1.7.4->spacy<3.8.0,>=3.7.2->en-core-web-lg==3.7.1) (2.16.3)\n",
            "Requirement already satisfied: typing-extensions>=4.6.1 in /usr/local/lib/python3.10/dist-packages (from pydantic!=1.8,!=1.8.1,<3.0.0,>=1.7.4->spacy<3.8.0,>=3.7.2->en-core-web-lg==3.7.1) (4.11.0)\n",
            "Requirement already satisfied: charset-normalizer<4,>=2 in /usr/local/lib/python3.10/dist-packages (from requests<3.0.0,>=2.13.0->spacy<3.8.0,>=3.7.2->en-core-web-lg==3.7.1) (3.3.2)\n",
            "Requirement already satisfied: idna<4,>=2.5 in /usr/local/lib/python3.10/dist-packages (from requests<3.0.0,>=2.13.0->spacy<3.8.0,>=3.7.2->en-core-web-lg==3.7.1) (3.6)\n",
            "Requirement already satisfied: urllib3<3,>=1.21.1 in /usr/local/lib/python3.10/dist-packages (from requests<3.0.0,>=2.13.0->spacy<3.8.0,>=3.7.2->en-core-web-lg==3.7.1) (2.0.7)\n",
            "Requirement already satisfied: certifi>=2017.4.17 in /usr/local/lib/python3.10/dist-packages (from requests<3.0.0,>=2.13.0->spacy<3.8.0,>=3.7.2->en-core-web-lg==3.7.1) (2024.2.2)\n",
            "Requirement already satisfied: blis<0.8.0,>=0.7.8 in /usr/local/lib/python3.10/dist-packages (from thinc<8.3.0,>=8.2.2->spacy<3.8.0,>=3.7.2->en-core-web-lg==3.7.1) (0.7.11)\n",
            "Requirement already satisfied: confection<1.0.0,>=0.0.1 in /usr/local/lib/python3.10/dist-packages (from thinc<8.3.0,>=8.2.2->spacy<3.8.0,>=3.7.2->en-core-web-lg==3.7.1) (0.1.4)\n",
            "Requirement already satisfied: click<9.0.0,>=7.1.1 in /usr/local/lib/python3.10/dist-packages (from typer<0.10.0,>=0.3.0->spacy<3.8.0,>=3.7.2->en-core-web-lg==3.7.1) (8.1.7)\n",
            "Requirement already satisfied: cloudpathlib<0.17.0,>=0.7.0 in /usr/local/lib/python3.10/dist-packages (from weasel<0.4.0,>=0.1.0->spacy<3.8.0,>=3.7.2->en-core-web-lg==3.7.1) (0.16.0)\n",
            "Requirement already satisfied: MarkupSafe>=2.0 in /usr/local/lib/python3.10/dist-packages (from jinja2->spacy<3.8.0,>=3.7.2->en-core-web-lg==3.7.1) (2.1.5)\n",
            "\u001b[38;5;2m✔ Download and installation successful\u001b[0m\n",
            "You can now load the package via spacy.load('en_core_web_lg')\n",
            "\u001b[38;5;3m⚠ Restart to reload dependencies\u001b[0m\n",
            "If you are in a Jupyter or Colab notebook, you may need to restart Python in\n",
            "order to load all the package's dependencies. You can do this by selecting the\n",
            "'Restart kernel' or 'Restart runtime' option.\n"
          ]
        }
      ]
    },
    {
      "cell_type": "code",
      "source": [
        "nlp = spacy.load('en_core_web_lg')\n",
        "nlp"
      ],
      "metadata": {
        "colab": {
          "base_uri": "https://localhost:8080/"
        },
        "id": "9U0V09pBcOsF",
        "outputId": "d175301f-20e9-4ff3-a34c-e37133e05ddd"
      },
      "execution_count": 50,
      "outputs": [
        {
          "output_type": "execute_result",
          "data": {
            "text/plain": [
              "<spacy.lang.en.English at 0x7ed9a43ef6a0>"
            ]
          },
          "metadata": {},
          "execution_count": 50
        }
      ]
    },
    {
      "cell_type": "code",
      "source": [
        "import json\n",
        "with open('Corona2.json','r') as f:\n",
        "  data = json.load(f)"
      ],
      "metadata": {
        "id": "j2CQa0pecrC7"
      },
      "execution_count": 51,
      "outputs": []
    },
    {
      "cell_type": "code",
      "source": [
        "data['examples'][5]"
      ],
      "metadata": {
        "colab": {
          "base_uri": "https://localhost:8080/"
        },
        "id": "vLzLqoKhgB6N",
        "outputId": "19598ba9-c5d6-48cd-94a9-3d71680ffaf4"
      },
      "execution_count": 69,
      "outputs": [
        {
          "output_type": "execute_result",
          "data": {
            "text/plain": [
              "{'id': 'b3481879-a9cd-48db-8526-8ee11c9a72bc',\n",
              " 'content': \"Hantaviruses, usually found in rodents and shrews, were discovered in two species of bats. The Mouyassué virus (MOUV) was isolated from banana pipistrelle bats captured near Mouyassué village in Cote d'Ivoire, West Africa. The Magboi virus was isolated from hairy slit-faced bats found near the Magboi River in Sierra Leone in 2011. They are single-stranded, negative sense, RNA viruses in the Bunyaviridae family.[29][30][31][32]\",\n",
              " 'metadata': {},\n",
              " 'annotations': [{'id': '13d9af0d-aeb0-4f0c-8a25-0ac0b458f975',\n",
              "   'tag_id': '2340864c-0876-4ad1-8a34-600324a516d1',\n",
              "   'end': 12,\n",
              "   'start': 0,\n",
              "   'example_id': 'b3481879-a9cd-48db-8526-8ee11c9a72bc',\n",
              "   'tag_name': 'Pathogen',\n",
              "   'value': 'Hantaviruses',\n",
              "   'correct': None,\n",
              "   'human_annotations': [{'timestamp': '2020-03-21T00:01:26.709000Z',\n",
              "     'annotator_id': 1,\n",
              "     'tagged_token_id': '13d9af0d-aeb0-4f0c-8a25-0ac0b458f975',\n",
              "     'name': 'Ashpat123',\n",
              "     'reason': 'exploration'}],\n",
              "   'model_annotations': []},\n",
              "  {'id': '3786294b-7ced-40b4-b34d-719cc42ce0f3',\n",
              "   'tag_id': '2340864c-0876-4ad1-8a34-600324a516d1',\n",
              "   'end': 406,\n",
              "   'start': 394,\n",
              "   'example_id': 'b3481879-a9cd-48db-8526-8ee11c9a72bc',\n",
              "   'tag_name': 'Pathogen',\n",
              "   'value': 'Bunyaviridae',\n",
              "   'correct': None,\n",
              "   'human_annotations': [{'timestamp': '2020-03-21T00:01:55.079000Z',\n",
              "     'annotator_id': 1,\n",
              "     'tagged_token_id': '3786294b-7ced-40b4-b34d-719cc42ce0f3',\n",
              "     'name': 'Ashpat123',\n",
              "     'reason': 'exploration'}],\n",
              "   'model_annotations': []},\n",
              "  {'id': 'be458a03-c973-44ac-96c9-ae65d9950164',\n",
              "   'tag_id': '2340864c-0876-4ad1-8a34-600324a516d1',\n",
              "   'end': 239,\n",
              "   'start': 227,\n",
              "   'example_id': 'b3481879-a9cd-48db-8526-8ee11c9a72bc',\n",
              "   'tag_name': 'Pathogen',\n",
              "   'value': 'Magboi virus',\n",
              "   'correct': None,\n",
              "   'human_annotations': [{'timestamp': '2020-03-21T00:01:42.435000Z',\n",
              "     'annotator_id': 1,\n",
              "     'tagged_token_id': 'be458a03-c973-44ac-96c9-ae65d9950164',\n",
              "     'name': 'Ashpat123',\n",
              "     'reason': 'exploration'}],\n",
              "   'model_annotations': []},\n",
              "  {'id': 'f1a523a6-c6b8-4e21-bb0e-8e8172e84746',\n",
              "   'tag_id': '2340864c-0876-4ad1-8a34-600324a516d1',\n",
              "   'end': 110,\n",
              "   'start': 95,\n",
              "   'example_id': 'b3481879-a9cd-48db-8526-8ee11c9a72bc',\n",
              "   'tag_name': 'Pathogen',\n",
              "   'value': 'Mouyassué virus',\n",
              "   'correct': None,\n",
              "   'human_annotations': [{'timestamp': '2020-03-21T00:01:33.592000Z',\n",
              "     'annotator_id': 1,\n",
              "     'tagged_token_id': 'f1a523a6-c6b8-4e21-bb0e-8e8172e84746',\n",
              "     'name': 'Ashpat123',\n",
              "     'reason': 'exploration'}],\n",
              "   'model_annotations': []}],\n",
              " 'classifications': []}"
            ]
          },
          "metadata": {},
          "execution_count": 69
        }
      ]
    },
    {
      "cell_type": "code",
      "source": [
        "data['examples'][0].keys()"
      ],
      "metadata": {
        "colab": {
          "base_uri": "https://localhost:8080/"
        },
        "id": "6-NPbM8_iPXB",
        "outputId": "1f713e34-e763-4651-c75b-5fc0d70fd3dd"
      },
      "execution_count": 53,
      "outputs": [
        {
          "output_type": "execute_result",
          "data": {
            "text/plain": [
              "dict_keys(['id', 'content', 'metadata', 'annotations', 'classifications'])"
            ]
          },
          "metadata": {},
          "execution_count": 53
        }
      ]
    },
    {
      "cell_type": "code",
      "source": [
        "data['examples'][0]['content']"
      ],
      "metadata": {
        "colab": {
          "base_uri": "https://localhost:8080/",
          "height": 157
        },
        "id": "XPVnEXbmiXVi",
        "outputId": "270c9c3b-a691-4c3e-cf45-f740773a3084"
      },
      "execution_count": 54,
      "outputs": [
        {
          "output_type": "execute_result",
          "data": {
            "text/plain": [
              "\"While bismuth compounds (Pepto-Bismol) decreased the number of bowel movements in those with travelers' diarrhea, they do not decrease the length of illness.[91] Anti-motility agents like loperamide are also effective at reducing the number of stools but not the duration of disease.[8] These agents should be used only if bloody diarrhea is not present.[92]\\n\\nDiosmectite, a natural aluminomagnesium silicate clay, is effective in alleviating symptoms of acute diarrhea in children,[93] and also has some effects in chronic functional diarrhea, radiation-induced diarrhea, and chemotherapy-induced diarrhea.[45] Another absorbent agent used for the treatment of mild diarrhea is kaopectate.\\n\\nRacecadotril an antisecretory medication may be used to treat diarrhea in children and adults.[86] It has better tolerability than loperamide, as it causes less constipation and flatulence.[94]\""
            ],
            "application/vnd.google.colaboratory.intrinsic+json": {
              "type": "string"
            }
          },
          "metadata": {},
          "execution_count": 54
        }
      ]
    },
    {
      "cell_type": "code",
      "source": [
        "data['examples'][0]['annotations'][0]"
      ],
      "metadata": {
        "colab": {
          "base_uri": "https://localhost:8080/"
        },
        "id": "aFvrsKjXiggn",
        "outputId": "1364c001-fede-4e31-fdd2-2ce6e6334926"
      },
      "execution_count": 55,
      "outputs": [
        {
          "output_type": "execute_result",
          "data": {
            "text/plain": [
              "{'id': '0825a1bf-6a6e-4fa2-be77-8d104701eaed',\n",
              " 'tag_id': 'c06bd022-6ded-44a5-8d90-f17685bb85a1',\n",
              " 'end': 371,\n",
              " 'start': 360,\n",
              " 'example_id': '18c2f619-f102-452f-ab81-d26f7e283ffe',\n",
              " 'tag_name': 'Medicine',\n",
              " 'value': 'Diosmectite',\n",
              " 'correct': None,\n",
              " 'human_annotations': [{'timestamp': '2020-03-21T00:24:32.098000Z',\n",
              "   'annotator_id': 1,\n",
              "   'tagged_token_id': '0825a1bf-6a6e-4fa2-be77-8d104701eaed',\n",
              "   'name': 'Ashpat123',\n",
              "   'reason': 'exploration'}],\n",
              " 'model_annotations': []}"
            ]
          },
          "metadata": {},
          "execution_count": 55
        }
      ]
    },
    {
      "cell_type": "code",
      "source": [
        "training_data= []\n",
        "for example in data['examples']:\n",
        "  temp_dict = {}\n",
        "  temp_dict['text'] = example['content']\n",
        "  temp_dict['entities'] = []\n",
        "  for annotation in example['annotations']:\n",
        "    start = annotation['start']\n",
        "    end = annotation['end']\n",
        "    label = annotation['tag_name'].upper()\n",
        "    temp_dict['entities'].append((start,end,label))\n",
        "  training_data.append(temp_dict)\n",
        "\n",
        "print(training_data[0])"
      ],
      "metadata": {
        "colab": {
          "base_uri": "https://localhost:8080/"
        },
        "id": "6DAD1JTfjfWd",
        "outputId": "4e7d67e9-da6b-4684-d256-a1320f2d0865"
      },
      "execution_count": 56,
      "outputs": [
        {
          "output_type": "stream",
          "name": "stdout",
          "text": [
            "{'text': \"While bismuth compounds (Pepto-Bismol) decreased the number of bowel movements in those with travelers' diarrhea, they do not decrease the length of illness.[91] Anti-motility agents like loperamide are also effective at reducing the number of stools but not the duration of disease.[8] These agents should be used only if bloody diarrhea is not present.[92]\\n\\nDiosmectite, a natural aluminomagnesium silicate clay, is effective in alleviating symptoms of acute diarrhea in children,[93] and also has some effects in chronic functional diarrhea, radiation-induced diarrhea, and chemotherapy-induced diarrhea.[45] Another absorbent agent used for the treatment of mild diarrhea is kaopectate.\\n\\nRacecadotril an antisecretory medication may be used to treat diarrhea in children and adults.[86] It has better tolerability than loperamide, as it causes less constipation and flatulence.[94]\", 'entities': [(360, 371, 'MEDICINE'), (383, 408, 'MEDICINE'), (104, 112, 'MEDICALCONDITION'), (679, 689, 'MEDICINE'), (6, 23, 'MEDICINE'), (25, 37, 'MEDICINE'), (461, 470, 'MEDICALCONDITION'), (577, 589, 'MEDICINE'), (853, 865, 'MEDICALCONDITION'), (188, 198, 'MEDICINE'), (754, 762, 'MEDICALCONDITION'), (870, 880, 'MEDICALCONDITION'), (823, 833, 'MEDICINE'), (852, 853, 'MEDICALCONDITION'), (461, 469, 'MEDICALCONDITION'), (535, 543, 'MEDICALCONDITION'), (692, 704, 'MEDICINE'), (563, 571, 'MEDICALCONDITION')]}\n"
          ]
        }
      ]
    },
    {
      "cell_type": "code",
      "source": [
        "training_data[5]['text']"
      ],
      "metadata": {
        "colab": {
          "base_uri": "https://localhost:8080/",
          "height": 87
        },
        "id": "LcqxJteYmXh2",
        "outputId": "1a88f88c-de43-4c1e-be58-73f8ebddd294"
      },
      "execution_count": 67,
      "outputs": [
        {
          "output_type": "execute_result",
          "data": {
            "text/plain": [
              "\"Hantaviruses, usually found in rodents and shrews, were discovered in two species of bats. The Mouyassué virus (MOUV) was isolated from banana pipistrelle bats captured near Mouyassué village in Cote d'Ivoire, West Africa. The Magboi virus was isolated from hairy slit-faced bats found near the Magboi River in Sierra Leone in 2011. They are single-stranded, negative sense, RNA viruses in the Bunyaviridae family.[29][30][31][32]\""
            ],
            "application/vnd.google.colaboratory.intrinsic+json": {
              "type": "string"
            }
          },
          "metadata": {},
          "execution_count": 67
        }
      ]
    },
    {
      "cell_type": "code",
      "source": [
        "training_data[15]['entities']"
      ],
      "metadata": {
        "colab": {
          "base_uri": "https://localhost:8080/"
        },
        "id": "igjJvgKrmhPl",
        "outputId": "c7a3f7f9-bf3c-45fa-d209-3788d132b5de"
      },
      "execution_count": 58,
      "outputs": [
        {
          "output_type": "execute_result",
          "data": {
            "text/plain": [
              "[(88, 98, 'MEDICINE'), (335, 346, 'MEDICINE'), (52, 63, 'MEDICINE')]"
            ]
          },
          "metadata": {},
          "execution_count": 58
        }
      ]
    },
    {
      "cell_type": "code",
      "source": [
        "from spacy.tokens import DocBin\n",
        "from tqdm import tqdm\n",
        "\n",
        "nlp = spacy.blank(\"en\")\n",
        "doc_bin = DocBin()"
      ],
      "metadata": {
        "id": "t8Ig0nq3se7L"
      },
      "execution_count": 59,
      "outputs": []
    },
    {
      "cell_type": "code",
      "source": [
        "from spacy.util import filter_spans\n",
        "\n",
        "for training_example in tqdm(training_data):\n",
        "  text = training_example['text']\n",
        "  labels = training_example['entities']\n",
        "  doc = nlp.make_doc(text)\n",
        "  ents = []\n",
        "  for start, end, label in labels:\n",
        "    span = doc.char_span(start, end, label=label, alignment_mode='contract')\n",
        "    if span is None:\n",
        "      print('Skipping entity')\n",
        "    else:\n",
        "      print(span)\n",
        "      ents.append(span)\n",
        "  filtered_ents = filter_spans(ents)\n",
        "  doc.ents = filtered_ents\n",
        "  doc_bin.add(doc)\n",
        "\n",
        "doc_bin.to_disk(\"train.spacy\")"
      ],
      "metadata": {
        "colab": {
          "base_uri": "https://localhost:8080/"
        },
        "id": "YySRPxgL-5B8",
        "outputId": "3dc8c63d-68bd-44b9-cc9a-d4936dc0d69d"
      },
      "execution_count": 60,
      "outputs": [
        {
          "output_type": "stream",
          "name": "stderr",
          "text": [
            " 39%|███▊      | 12/31 [00:00<00:00, 108.84it/s]"
          ]
        },
        {
          "output_type": "stream",
          "name": "stdout",
          "text": [
            "Diosmectite\n",
            "aluminomagnesium silicate\n",
            "diarrhea\n",
            "kaopectate\n",
            "bismuth compounds\n",
            "Pepto-Bismol\n",
            "diarrhea\n",
            "chemotherapy\n",
            "constipation\n",
            "loperamide\n",
            "diarrhea\n",
            "Skipping entity\n",
            "loperamide\n",
            "Skipping entity\n",
            "diarrhea\n",
            "diarrhea\n",
            "Racecadotril\n",
            "diarrhea\n",
            "loss of skin color\n",
            "Diarrhea\n",
            "watery bowel movements\n",
            "dehydration\n",
            "dehydration\n",
            "diarrhoea\n",
            "decrease in responsiveness\n",
            "fast heart rate\n",
            "Antiretroviral therapy\n",
            "ART\n",
            "ART\n",
            "HIV\n",
            "HIV\n",
            "ART\n",
            "HIV\n",
            "] A combined approach with methotrexate and biologics improves ACR50, HAQ scores and RA remission rates.[94] Triple therapy consisting of methotrexate, sulfasalazine and hydroxychloroquine may also effectively control disease activity.[95] Adverse effects should be monitored regularly with toxicity including gastrointestinal, hematologic, pulmonary, and hepatic.[93]\n",
            "DMARDs\n",
            "Hydroxychloroquine\n",
            "cyclosporin\n",
            "Skipping entity\n",
            "] A combined approach with methotrexate and biologics improves ACR50, HAQ scores and RA remission rates.[94] Triple therapy consisting of methotrexate, sulfasalazine and hydroxychloroquine may also effectively control disease activity.[95] Adverse effects should be monitored regularly with toxicity including gastrointestinal, hematologic, pulmonary, and hepatic.[93]\n",
            "Skipping entity\n",
            "hydroxychloroquine\n",
            "Sulfasalazine\n",
            "monoclonal antibodies\n",
            "methotrexate\n",
            "Rituximab\n",
            "sulfasalazine\n",
            "cyclosporin\n",
            "etanercept\n",
            "certolizumab\n",
            "Skipping entity\n",
            "sulfasalazine\n",
            "TNF-alpha inhibitors\n",
            "folic\n",
            "sulfasalazine, leflunomide\n",
            "nausea\n",
            "RA\n",
            "rheumatoid\n",
            "Leflunomide\n",
            "methotrexate\n",
            "Sodium aurothiomalate\n",
            "Methotrexate\n",
            "abdominal pain\n",
            "Skipping entity\n",
            "methotrexate\n",
            "vomiting\n",
            "methotrexate\n",
            "infliximab\n",
            "hydroxychloroquine\n",
            ", leflunomide\n",
            "tocilizumab\n",
            "tocilizumab\n",
            "methotrexate\n",
            "hydroxychloroquine\n",
            "Biological DMARDs\n",
            "steroids\n",
            "Hantaviruses\n",
            "Bunyaviridae\n",
            "Magboi virus\n",
            "Mouyassué virus\n",
            "rabies\n",
            "rabies\n",
            "Skipping entity\n",
            "rabies virus\n",
            "Rabies virus\n",
            "dies\n",
            "rabies\n",
            "Bites\n",
            "severe acute respiratory syndrome\n",
            "coronavirus\n",
            "SARS\n",
            "Skipping entity\n",
            "coronavirus\n",
            "SARS coronavirus\n",
            "SARS\n",
            "SARS-CoV\n",
            "candidiasis\n",
            "Bacterial vaginosis\n",
            "skin infection\n",
            "bacteria\n",
            "cystitis\n",
            "blisters\n",
            "Cellulitis\n",
            "pain during urination\n",
            "vaginal infections\n",
            "Erysipelas\n",
            "Staphylococcus aureus\n",
            "Bacterial gastroenteritis\n",
            "surgical wounds\n",
            "Streptococcus\n",
            "Skipping entity\n",
            "bacterial inflammation\n",
            "Bacterial pneumonia\n",
            "yeast infection\n",
            "inflammation\n",
            "nephritis\n",
            "cracks in the skin\n",
            "intravenous drug injection\n",
            "Skipping entity\n",
            "animal bites\n",
            "bacteria\n",
            "intravenous catheter insertion\n",
            "Cellulitis\n",
            "inflammation\n",
            "Lactobacilli\n",
            "Bacterial meningitis\n",
            "Escherichia\n",
            "Trichomonas vaginalis\n",
            "Escherichia coli\n",
            "Listeria\n",
            "Yersinia pestis\n",
            "Francisella\n",
            "Neisseria\n",
            "Legionella\n",
            "Nocardia\n",
            "Mycobacterium\n",
            "Brucella\n",
            "Salmonella\n",
            "Streptococcus\n",
            "tetanus\n",
            "tetanus,\n",
            "Campylobacter,\n",
            "Salmonella\n",
            "pneumonia\n",
            "typhoid fever\n",
            "leprosy\n",
            "Campylobacter\n",
            "diphtheria\n",
            "Pseudomonas\n",
            "tuberculosis\n",
            "syphilis\n",
            "fever\n",
            "Mycobacterium tuberculosis\n",
            "Shigella\n",
            "syphilis\n",
            "Streptococcus\n",
            "Hansen's disease\n",
            "bacteria\n",
            "Pseudomonas\n",
            "diphtheria\n",
            "pathogenic bacteria\n",
            "Skipping entity\n",
            "Shigella\n",
            "bacteria\n",
            "Salmonella\n",
            "tetanus\n",
            "foodborne illnesses\n",
            "typhoid fever\n",
            "Campylobacter\n",
            ", syphilis\n",
            "amoxicillin\n",
            "anthrax vaccine\n",
            "doxycycline\n",
            "ciprofloxacin\n",
            "pneumococcal vaccine\n",
            "protozoan\n",
            "infectious microorganism\n",
            "fungus\n",
            "bacterium\n",
            "virus\n",
            "fluvoxamine\n",
            "social anxiety\n",
            "sertraline\n",
            "social anxiety disorder\n",
            "MAOIs\n",
            "fluvoxamine\n",
            "venlafaxine\n",
            "imipramine\n",
            "social anxiety disorder\n",
            "fluoxetine\n",
            "paroxetine\n",
            "anxiety disorder\n",
            "Sertraline\n",
            "Phenelzine\n",
            "clomipramine\n",
            "Skipping entity\n",
            "phobia\n",
            "Skipping entity\n",
            "Skipping entity\n",
            "escitalopram\n",
            "Moclobemide\n",
            "social phobia\n",
            "TB therapy\n",
            "bedaquiline\n",
            "bedaquiline\n",
            "Skipping entity\n",
            "isoniazid\n",
            "rifampin\n",
            "isoniazid\n",
            "isoniazid\n",
            "rifampicin\n",
            "extensive scarring\n",
            "chest pain\n",
            "prolonged cough\n",
            "cough up blood\n",
            "massive\n",
            "HIV\n",
            "HIV\n",
            "extrapulmonary\n",
            "miliary\n",
            "extrapulmonary infection\n",
            "tuberculous meningitis\n",
            "chickenpox\n",
            "shingles\n",
            "varicella zoster virus\n",
            "Epstein–Barr virus\n",
            "Yersinia\n",
            "herpes simplex virus\n",
            "chickenpox\n",
            "multiple sclerosis\n",
            "Ebola virus\n",
            "psychiatric illnesses\n",
            "herpesvirus 6\n",
            "influenza\n",
            "chickenpox\n",
            "avian influenza\n",
            "bornavirus\n",
            "Parkinson's\n",
            "adamantane\n",
            "Skipping entity\n",
            "saxagliptin\n",
            "dopamantine\n",
            "carmantadine\n",
            "amantadine\n",
            "Buprenorphine\n",
            "refractory depression\n",
            "Buprenorphine\n",
            "neuropathic pain syndromes\n",
            "restless leg\n",
            "migraine prophylaxis\n",
            "postherpetic neuralgia\n",
            "Gabapentin\n",
            "seizures\n",
            "Zyban\n",
            "Wellbutrin\n",
            "Wellbutrin\n",
            "Wellbutrin\n",
            "Wellbutrin\n",
            "Zyban\n",
            "Bupropion\n",
            "post-traumatic stress\n",
            "neuromyotonia\n",
            "Carbamazepine\n",
            "bipolar disorder\n",
            "hyperactivity disorder\n",
            "Carbamazepine\n",
            "schizophrenia\n",
            "epileptic seizures\n",
            "phantom limb syndrome\n",
            "influenza\n",
            "rimantadine\n",
            "M2 inhibitors\n",
            "amantadine\n",
            "peramivir\n",
            "influenza\n",
            "zanamivir\n",
            "laninamivir\n"
          ]
        },
        {
          "output_type": "stream",
          "name": "stderr",
          "text": [
            "100%|██████████| 31/31 [00:00<00:00, 128.52it/s]"
          ]
        },
        {
          "output_type": "stream",
          "name": "stdout",
          "text": [
            "laninamivir\n",
            "influenza\n",
            "oseltamivir\n",
            "sore throat\n",
            "Influenza\n",
            "asthma\n",
            "bacterial pneumonia\n",
            "vomiting\n",
            "headache\n",
            "asthma\n",
            "coughing\n",
            "sinus infections\n",
            "heart\n",
            "joint pain\n",
            "stomach flu\n",
            "diarrhea\n",
            "feeling\n",
            "diarrhea\n",
            "influenza\n"
          ]
        },
        {
          "output_type": "stream",
          "name": "stderr",
          "text": [
            "\n"
          ]
        }
      ]
    },
    {
      "cell_type": "code",
      "source": [
        "!python -m spacy init fill-config base_config.cfg config.cfg"
      ],
      "metadata": {
        "colab": {
          "base_uri": "https://localhost:8080/"
        },
        "id": "KCkxe0MnIJkR",
        "outputId": "e2131de5-da24-4b62-822a-941931d43ced"
      },
      "execution_count": 61,
      "outputs": [
        {
          "output_type": "stream",
          "name": "stdout",
          "text": [
            "\u001b[38;5;2m✔ Auto-filled config with all values\u001b[0m\n",
            "\u001b[38;5;2m✔ Saved config\u001b[0m\n",
            "config.cfg\n",
            "You can now add your data and train your pipeline:\n",
            "python -m spacy train config.cfg --paths.train ./train.spacy --paths.dev ./dev.spacy\n"
          ]
        }
      ]
    },
    {
      "cell_type": "code",
      "source": [
        "!python -m spacy train config.cfg --output ./ --paths.train ./train.spacy --paths.dev ./train.spacy"
      ],
      "metadata": {
        "colab": {
          "base_uri": "https://localhost:8080/"
        },
        "id": "tUcW6ODTIvzi",
        "outputId": "7a7620d8-4d3b-46b1-83e0-650dddd82172"
      },
      "execution_count": 62,
      "outputs": [
        {
          "output_type": "stream",
          "name": "stdout",
          "text": [
            "\u001b[38;5;4mℹ Saving to output directory: .\u001b[0m\n",
            "\u001b[38;5;4mℹ Using CPU\u001b[0m\n",
            "\u001b[1m\n",
            "=========================== Initializing pipeline ===========================\u001b[0m\n",
            "\u001b[38;5;2m✔ Initialized pipeline\u001b[0m\n",
            "\u001b[1m\n",
            "============================= Training pipeline =============================\u001b[0m\n",
            "\u001b[38;5;4mℹ Pipeline: ['tok2vec', 'ner']\u001b[0m\n",
            "\u001b[38;5;4mℹ Initial learn rate: 0.001\u001b[0m\n",
            "E    #       LOSS TOK2VEC  LOSS NER  ENTS_F  ENTS_P  ENTS_R  SCORE \n",
            "---  ------  ------------  --------  ------  ------  ------  ------\n",
            "  0       0          0.00    153.29    0.55    0.91    0.39    0.01\n",
            "  7     200        499.25   3640.10   70.00   82.80   60.63    0.70\n",
            " 14     400        192.16   1153.36   87.20   97.10   79.13    0.87\n",
            " 22     600         72.20    471.57   93.66   97.45   90.16    0.94\n",
            " 30     800        117.10    435.09   95.67   95.67   95.67    0.96\n",
            " 40    1000         97.26    314.46   96.43   97.20   95.67    0.96\n",
            "\n",
            "\u001b[31mAborted.\u001b[0m\n"
          ]
        }
      ]
    },
    {
      "cell_type": "code",
      "source": [
        "nlp_ner = spacy.load(\"model-best\")\n"
      ],
      "metadata": {
        "id": "aYym5bKiSFW7"
      },
      "execution_count": 63,
      "outputs": []
    },
    {
      "cell_type": "code",
      "source": [
        "doc = nlp_ner(\"While bismuth compounds (Pepto-Bismol) decreased the number of bowel movements in those with travelers' diarrhea, they do not decrease the length of illness.[91] Anti-motility agents like loperamide are also effective at reducing the number of stools but not the duration of disease.[8] These agents should be used only if bloody diarrhea is not present.\")\n",
        "\n",
        "colors = {\"PATHOGEN\": \"#F67DE3\", \"MEDICINE\": \"#7DF6D9\", \"MEDICALCONDITION\":\"#a6e22d\"}\n",
        "options = {\"colors\": colors}\n",
        "\n",
        "spacy.displacy.render(doc, style=\"ent\", options= options, jupyter=True)"
      ],
      "metadata": {
        "colab": {
          "base_uri": "https://localhost:8080/",
          "height": 122
        },
        "id": "c09LKvK0Segm",
        "outputId": "33af0836-18c2-44f5-df95-f1231212756a"
      },
      "execution_count": 65,
      "outputs": [
        {
          "output_type": "display_data",
          "data": {
            "text/plain": [
              "<IPython.core.display.HTML object>"
            ],
            "text/html": [
              "<span class=\"tex2jax_ignore\"><div class=\"entities\" style=\"line-height: 2.5; direction: ltr\">While \n",
              "<mark class=\"entity\" style=\"background: #7DF6D9; padding: 0.45em 0.6em; margin: 0 0.25em; line-height: 1; border-radius: 0.35em;\">\n",
              "    bismuth compounds\n",
              "    <span style=\"font-size: 0.8em; font-weight: bold; line-height: 1; border-radius: 0.35em; vertical-align: middle; margin-left: 0.5rem\">MEDICINE</span>\n",
              "</mark>\n",
              " (\n",
              "<mark class=\"entity\" style=\"background: #7DF6D9; padding: 0.45em 0.6em; margin: 0 0.25em; line-height: 1; border-radius: 0.35em;\">\n",
              "    Pepto-Bismol\n",
              "    <span style=\"font-size: 0.8em; font-weight: bold; line-height: 1; border-radius: 0.35em; vertical-align: middle; margin-left: 0.5rem\">MEDICINE</span>\n",
              "</mark>\n",
              ") decreased the number of bowel movements in those with travelers' \n",
              "<mark class=\"entity\" style=\"background: #a6e22d; padding: 0.45em 0.6em; margin: 0 0.25em; line-height: 1; border-radius: 0.35em;\">\n",
              "    diarrhea\n",
              "    <span style=\"font-size: 0.8em; font-weight: bold; line-height: 1; border-radius: 0.35em; vertical-align: middle; margin-left: 0.5rem\">MEDICALCONDITION</span>\n",
              "</mark>\n",
              ", they do not decrease the length of illness.[91] Anti-motility agents like \n",
              "<mark class=\"entity\" style=\"background: #7DF6D9; padding: 0.45em 0.6em; margin: 0 0.25em; line-height: 1; border-radius: 0.35em;\">\n",
              "    loperamide\n",
              "    <span style=\"font-size: 0.8em; font-weight: bold; line-height: 1; border-radius: 0.35em; vertical-align: middle; margin-left: 0.5rem\">MEDICINE</span>\n",
              "</mark>\n",
              " are also effective at reducing the number of stools but not the duration of disease.[8] These agents should be used only if bloody diarrhea is not present.</div></span>"
            ]
          },
          "metadata": {}
        }
      ]
    },
    {
      "cell_type": "code",
      "source": [
        "doc = nlp_ner('''\n",
        "The patient was prescribed Aspirin for their heart condition.\n",
        "The doctor recommended Ibuprofen to alleviate the patient's headache.\n",
        "The patient is suffering from diabetes, and they need to take Metformin regularly.\n",
        "After the surgery, the patient experienced some post-operative complications, including infection.\n",
        "The patient is currently on a regimen of Lisinopril to manage their high blood pressure.\n",
        "The antibiotic course for treating the bacterial infection should be completed as prescribed.\n",
        "The patient's insulin dosage needs to be adjusted to better control their blood sugar levels.\n",
        "The physician suspects that the patient may have pneumonia and has ordered a chest X-ray.\n",
        "The patient's cholesterol levels are high, and they have been advised to take Atorvastatin.\n",
        "The allergy to penicillin was noted in the patient's medical history.\n",
        "''')\n",
        "\n",
        "# colors = {\"PATHOGEN\": \"#F67DE3\", \"MEDICINE\": \"#7DF6D9\", \"MEDICALCONDITION\":\"#a6e22d\"}\n",
        "# options = {\"colors\": colors}\n",
        "\n",
        "spacy.displacy.render(doc, style=\"ent\", options= options, jupyter=True)"
      ],
      "metadata": {
        "colab": {
          "base_uri": "https://localhost:8080/",
          "height": 402
        },
        "id": "FQW-yyXQU_Ov",
        "outputId": "771ad787-dd56-40fc-c0d7-9722c6be9c3f"
      },
      "execution_count": 66,
      "outputs": [
        {
          "output_type": "display_data",
          "data": {
            "text/plain": [
              "<IPython.core.display.HTML object>"
            ],
            "text/html": [
              "<span class=\"tex2jax_ignore\"><div class=\"entities\" style=\"line-height: 2.5; direction: ltr\"><br>The patient was prescribed \n",
              "<mark class=\"entity\" style=\"background: #7DF6D9; padding: 0.45em 0.6em; margin: 0 0.25em; line-height: 1; border-radius: 0.35em;\">\n",
              "    Aspirin\n",
              "    <span style=\"font-size: 0.8em; font-weight: bold; line-height: 1; border-radius: 0.35em; vertical-align: middle; margin-left: 0.5rem\">MEDICINE</span>\n",
              "</mark>\n",
              " for their heart condition.<br>The doctor recommended \n",
              "<mark class=\"entity\" style=\"background: #7DF6D9; padding: 0.45em 0.6em; margin: 0 0.25em; line-height: 1; border-radius: 0.35em;\">\n",
              "    Ibuprofen\n",
              "    <span style=\"font-size: 0.8em; font-weight: bold; line-height: 1; border-radius: 0.35em; vertical-align: middle; margin-left: 0.5rem\">MEDICINE</span>\n",
              "</mark>\n",
              " to alleviate the patient's \n",
              "<mark class=\"entity\" style=\"background: #a6e22d; padding: 0.45em 0.6em; margin: 0 0.25em; line-height: 1; border-radius: 0.35em;\">\n",
              "    headache\n",
              "    <span style=\"font-size: 0.8em; font-weight: bold; line-height: 1; border-radius: 0.35em; vertical-align: middle; margin-left: 0.5rem\">MEDICALCONDITION</span>\n",
              "</mark>\n",
              ".<br>The patient is suffering from diabetes, and they need to take \n",
              "<mark class=\"entity\" style=\"background: #7DF6D9; padding: 0.45em 0.6em; margin: 0 0.25em; line-height: 1; border-radius: 0.35em;\">\n",
              "    Metformin\n",
              "    <span style=\"font-size: 0.8em; font-weight: bold; line-height: 1; border-radius: 0.35em; vertical-align: middle; margin-left: 0.5rem\">MEDICINE</span>\n",
              "</mark>\n",
              " regularly.<br>After the surgery, the patient experienced some \n",
              "<mark class=\"entity\" style=\"background: #a6e22d; padding: 0.45em 0.6em; margin: 0 0.25em; line-height: 1; border-radius: 0.35em;\">\n",
              "    post-\n",
              "    <span style=\"font-size: 0.8em; font-weight: bold; line-height: 1; border-radius: 0.35em; vertical-align: middle; margin-left: 0.5rem\">MEDICALCONDITION</span>\n",
              "</mark>\n",
              "operative complications, including infection.<br>The patient is currently on a regimen of \n",
              "<mark class=\"entity\" style=\"background: #7DF6D9; padding: 0.45em 0.6em; margin: 0 0.25em; line-height: 1; border-radius: 0.35em;\">\n",
              "    Lisinopril\n",
              "    <span style=\"font-size: 0.8em; font-weight: bold; line-height: 1; border-radius: 0.35em; vertical-align: middle; margin-left: 0.5rem\">MEDICINE</span>\n",
              "</mark>\n",
              " to manage their high blood pressure.<br>The antibiotic course for treating the bacterial infection should be completed as prescribed.<br>The patient's insulin dosage needs to be adjusted to better control their blood sugar levels.<br>The physician suspects that the patient may have pneumonia and has ordered a \n",
              "<mark class=\"entity\" style=\"background: #a6e22d; padding: 0.45em 0.6em; margin: 0 0.25em; line-height: 1; border-radius: 0.35em;\">\n",
              "    chest X\n",
              "    <span style=\"font-size: 0.8em; font-weight: bold; line-height: 1; border-radius: 0.35em; vertical-align: middle; margin-left: 0.5rem\">MEDICALCONDITION</span>\n",
              "</mark>\n",
              "-ray.<br>The patient's cholesterol levels are high, and they have been advised to take \n",
              "<mark class=\"entity\" style=\"background: #7DF6D9; padding: 0.45em 0.6em; margin: 0 0.25em; line-height: 1; border-radius: 0.35em;\">\n",
              "    Atorvastatin\n",
              "    <span style=\"font-size: 0.8em; font-weight: bold; line-height: 1; border-radius: 0.35em; vertical-align: middle; margin-left: 0.5rem\">MEDICINE</span>\n",
              "</mark>\n",
              ".<br>The allergy to \n",
              "<mark class=\"entity\" style=\"background: #7DF6D9; padding: 0.45em 0.6em; margin: 0 0.25em; line-height: 1; border-radius: 0.35em;\">\n",
              "    penicillin\n",
              "    <span style=\"font-size: 0.8em; font-weight: bold; line-height: 1; border-radius: 0.35em; vertical-align: middle; margin-left: 0.5rem\">MEDICINE</span>\n",
              "</mark>\n",
              " was noted in the patient's medical history.<br></div></span>"
            ]
          },
          "metadata": {}
        }
      ]
    },
    {
      "cell_type": "markdown",
      "source": [
        "Hantaviruses, usually found in rodents and shrews, were discovered in two species of bats. The Mouyassué virus (MOUV) was isolated from banana pipistrelle bats captured near Mouyassué village in Cote d'Ivoire, West Africa. The Magboi virus was isolated from hairy slit-faced bats found near the Magboi River in Sierra Leone in 2011. They are single-stranded, negative sense, RNA viruses in the Bunyaviridae family.[29][30][31][32]"
      ],
      "metadata": {
        "id": "YpFspyDHWSEp"
      }
    },
    {
      "cell_type": "code",
      "source": [
        "doc = nlp_ner('''\n",
        "Hantaviruses, usually found in rodents and shrews, were discovered in two species of bats. The Mouyassué virus (MOUV) was isolated from banana pipistrelle bats captured near Mouyassué village in Cote d'Ivoire, West Africa. The Magboi virus was isolated from hairy slit-faced bats found near the Magboi River in Sierra Leone in 2011. They are single-stranded, negative sense, RNA viruses in the Bunyaviridae family.[29][30][31][32]\n",
        "''')\n",
        "\n",
        "# colors = {\"PATHOGEN\": \"#F67DE3\", \"MEDICINE\": \"#7DF6D9\", \"MEDICALCONDITION\":\"#a6e22d\"}\n",
        "# options = {\"colors\": colors}\n",
        "\n",
        "spacy.displacy.render(doc, style=\"ent\", options= options, jupyter=True)"
      ],
      "metadata": {
        "colab": {
          "base_uri": "https://localhost:8080/",
          "height": 192
        },
        "id": "N3dba939WTac",
        "outputId": "3857f73c-5877-406d-acee-247691869c09"
      },
      "execution_count": 68,
      "outputs": [
        {
          "output_type": "display_data",
          "data": {
            "text/plain": [
              "<IPython.core.display.HTML object>"
            ],
            "text/html": [
              "<span class=\"tex2jax_ignore\"><div class=\"entities\" style=\"line-height: 2.5; direction: ltr\"><br>\n",
              "<mark class=\"entity\" style=\"background: #F67DE3; padding: 0.45em 0.6em; margin: 0 0.25em; line-height: 1; border-radius: 0.35em;\">\n",
              "    Hantaviruses\n",
              "    <span style=\"font-size: 0.8em; font-weight: bold; line-height: 1; border-radius: 0.35em; vertical-align: middle; margin-left: 0.5rem\">PATHOGEN</span>\n",
              "</mark>\n",
              ", usually found in rodents and shrews, were discovered in two species of bats. The \n",
              "<mark class=\"entity\" style=\"background: #F67DE3; padding: 0.45em 0.6em; margin: 0 0.25em; line-height: 1; border-radius: 0.35em;\">\n",
              "    Mouyassué virus\n",
              "    <span style=\"font-size: 0.8em; font-weight: bold; line-height: 1; border-radius: 0.35em; vertical-align: middle; margin-left: 0.5rem\">PATHOGEN</span>\n",
              "</mark>\n",
              " (MOUV) was isolated from banana pipistrelle bats captured near Mouyassué village in Cote d'Ivoire, West Africa. The \n",
              "<mark class=\"entity\" style=\"background: #F67DE3; padding: 0.45em 0.6em; margin: 0 0.25em; line-height: 1; border-radius: 0.35em;\">\n",
              "    Magboi virus\n",
              "    <span style=\"font-size: 0.8em; font-weight: bold; line-height: 1; border-radius: 0.35em; vertical-align: middle; margin-left: 0.5rem\">PATHOGEN</span>\n",
              "</mark>\n",
              " was isolated from hairy slit-faced bats found near the Magboi River in Sierra Leone in 2011. They are single-stranded, negative sense, RNA viruses in the \n",
              "<mark class=\"entity\" style=\"background: #F67DE3; padding: 0.45em 0.6em; margin: 0 0.25em; line-height: 1; border-radius: 0.35em;\">\n",
              "    Bunyaviridae\n",
              "    <span style=\"font-size: 0.8em; font-weight: bold; line-height: 1; border-radius: 0.35em; vertical-align: middle; margin-left: 0.5rem\">PATHOGEN</span>\n",
              "</mark>\n",
              " family.[29][30][31][32]<br></div></span>"
            ]
          },
          "metadata": {}
        }
      ]
    }
  ]
}